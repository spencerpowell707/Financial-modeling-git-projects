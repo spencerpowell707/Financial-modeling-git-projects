{
 "cells": [
  {
   "cell_type": "markdown",
   "metadata": {},
   "source": [
    "# Part 2: The American Binomial Option Pricing Model"
   ]
  },
  {
   "cell_type": "markdown",
   "metadata": {},
   "source": [
    "### Problem 2"
   ]
  },
  {
   "cell_type": "code",
   "execution_count": 4,
   "metadata": {},
   "outputs": [],
   "source": [
    "import numpy as np\n",
    "import options as opt\n",
    "import matplotlib.pyplot as plt\n",
    "from scipy.stats import norm, binom\n",
    "from typing import Callable\n",
    "import pandas as pd"
   ]
  },
  {
   "cell_type": "markdown",
   "metadata": {},
   "source": [
    "#### Section A"
   ]
  },
  {
   "cell_type": "code",
   "execution_count": 5,
   "metadata": {},
   "outputs": [],
   "source": [
    "spot = 100\n",
    "strike = 95\n",
    "expiry = 1\n",
    "rate = .08\n",
    "div = 0.00\n",
    "vol = .30\n",
    "num = 3"
   ]
  },
  {
   "cell_type": "code",
   "execution_count": 6,
   "metadata": {},
   "outputs": [
    {
     "name": "stdout",
     "output_type": "stream",
     "text": [
      "18.282552207370557\n"
     ]
    },
    {
     "data": {
      "text/plain": [
       "True"
      ]
     },
     "execution_count": 6,
     "metadata": {},
     "output_type": "execute_result"
    }
   ],
   "source": [
    "american_call_price = opt.american_binomial_pricer(spot,strike,expiry,rate,div,vol,num,opt.call_payoff)\n",
    "print(american_call_price)\n",
    "european_call_price = opt.european_binomial_pricer(spot,strike,expiry,rate,div,vol,num,opt.call_payoff)\n",
    "bool(european_call_price == american_call_price)"
   ]
  },
  {
   "cell_type": "markdown",
   "metadata": {},
   "source": [
    "#### Section B"
   ]
  },
  {
   "cell_type": "code",
   "execution_count": 7,
   "metadata": {},
   "outputs": [
    {
     "name": "stdout",
     "output_type": "stream",
     "text": [
      "5.9786051141009695\n"
     ]
    }
   ],
   "source": [
    "european_put_price = opt.european_binomial_pricer(spot, strike, expiry, rate, div, vol, num, opt.put_payoff)\n",
    "print(european_put_price)"
   ]
  },
  {
   "cell_type": "code",
   "execution_count": 8,
   "metadata": {},
   "outputs": [
    {
     "name": "stdout",
     "output_type": "stream",
     "text": [
      "87.78801313377129\n",
      "87.69605290673042\n"
     ]
    }
   ],
   "source": [
    "C = european_call_price\n",
    "V = strike/(1+(rate/num))**num\n",
    "P = european_put_price\n",
    "S = spot\n",
    "print(V)\n",
    "#print(C+V, P+S)\n",
    "bool((C+V)==(P+S))\n",
    "V = P + S - C\n",
    "print(V)"
   ]
  },
  {
   "cell_type": "markdown",
   "metadata": {},
   "source": [
    "#### Section C"
   ]
  },
  {
   "cell_type": "code",
   "execution_count": 9,
   "metadata": {},
   "outputs": [
    {
     "data": {
      "text/plain": [
       "6.677901227132065"
      ]
     },
     "execution_count": 9,
     "metadata": {},
     "output_type": "execute_result"
    }
   ],
   "source": [
    "american_put_price = opt.american_binomial_pricer(spot,strike,expiry,rate,div,vol,num,opt.put_payoff)\n",
    "american_put_price"
   ]
  },
  {
   "cell_type": "markdown",
   "metadata": {},
   "source": [
    "#### Section D"
   ]
  },
  {
   "cell_type": "code",
   "execution_count": 10,
   "metadata": {},
   "outputs": [],
   "source": [
    "n = 200"
   ]
  },
  {
   "cell_type": "code",
   "execution_count": 11,
   "metadata": {},
   "outputs": [
    {
     "name": "stdout",
     "output_type": "stream",
     "text": [
      "18.282552207370557\n",
      "18.282552207370557\n"
     ]
    },
    {
     "data": {
      "text/plain": [
       "True"
      ]
     },
     "execution_count": 11,
     "metadata": {},
     "output_type": "execute_result"
    }
   ],
   "source": [
    "american_call_price = opt.american_binomial_pricer(spot,strike,expiry,rate,div,vol,num,opt.call_payoff)\n",
    "print(american_call_price)\n",
    "european_call_price = opt.european_binomial_pricer(spot,strike,expiry,rate,div,vol,num,opt.call_payoff)\n",
    "print(european_call_price)\n",
    "bool(european_call_price == american_call_price)"
   ]
  },
  {
   "cell_type": "code",
   "execution_count": 12,
   "metadata": {},
   "outputs": [
    {
     "name": "stdout",
     "output_type": "stream",
     "text": [
      "5.9786051141009695\n"
     ]
    }
   ],
   "source": [
    "european_put_price = opt.european_binomial_pricer(spot, strike, expiry, rate, div, vol, num, opt.put_payoff)\n",
    "print(european_put_price)"
   ]
  },
  {
   "cell_type": "code",
   "execution_count": 13,
   "metadata": {},
   "outputs": [
    {
     "name": "stdout",
     "output_type": "stream",
     "text": [
      "87.78801313377129\n",
      "87.69605290673042\n"
     ]
    }
   ],
   "source": [
    "C = european_call_price\n",
    "V = strike/(1+(rate/num))**num\n",
    "P = european_put_price\n",
    "S = spot\n",
    "print(V)\n",
    "#print(C+V, P+S)\n",
    "bool((C+V)==(P+S))\n",
    "V = P + S - C\n",
    "print(V)"
   ]
  },
  {
   "cell_type": "code",
   "execution_count": 14,
   "metadata": {},
   "outputs": [
    {
     "data": {
      "text/plain": [
       "6.677901227132065"
      ]
     },
     "execution_count": 14,
     "metadata": {},
     "output_type": "execute_result"
    }
   ],
   "source": [
    "american_put_price = opt.american_binomial_pricer(spot,strike,expiry,rate,div,vol,num,opt.put_payoff)\n",
    "american_put_price"
   ]
  },
  {
   "cell_type": "markdown",
   "metadata": {},
   "source": [
    "## Problem 3"
   ]
  },
  {
   "cell_type": "code",
   "execution_count": 15,
   "metadata": {},
   "outputs": [],
   "source": [
    "num = 3\n",
    "div = 0.08"
   ]
  },
  {
   "cell_type": "code",
   "execution_count": 16,
   "metadata": {},
   "outputs": [
    {
     "name": "stdout",
     "output_type": "stream",
     "text": [
      "14.183022701537356\n",
      "9.504606550920679\n"
     ]
    }
   ],
   "source": [
    "american_call_price = opt.american_binomial_pricer(spot,strike,expiry,rate,div,vol,num,opt.call_payoff)\n",
    "print(american_call_price)\n",
    "american_put_price = opt.american_binomial_pricer(spot,strike,expiry,rate,div,vol,num,opt.put_payoff)\n",
    "print(american_put_price)"
   ]
  },
  {
   "cell_type": "code",
   "execution_count": 17,
   "metadata": {},
   "outputs": [
    {
     "name": "stdout",
     "output_type": "stream",
     "text": [
      "13.94147937188108\n",
      "9.3258976399479\n"
     ]
    }
   ],
   "source": [
    "european_call_price = opt.european_binomial_pricer(spot,strike,expiry,rate,div,vol,num,opt.call_payoff)\n",
    "print(european_call_price)\n",
    "european_put_price = opt.european_binomial_pricer(spot,strike,expiry,rate,div,vol,num,opt.put_payoff)\n",
    "print(european_put_price)"
   ]
  },
  {
   "cell_type": "code",
   "execution_count": 18,
   "metadata": {},
   "outputs": [],
   "source": [
    "num = 200\n",
    "div = 0.08"
   ]
  },
  {
   "cell_type": "code",
   "execution_count": 19,
   "metadata": {},
   "outputs": [
    {
     "name": "stdout",
     "output_type": "stream",
     "text": [
      "13.502471888067937\n",
      "8.735786652694026\n"
     ]
    }
   ],
   "source": [
    "american_call_price = opt.american_binomial_pricer(spot,strike,expiry,rate,div,vol,num,opt.call_payoff)\n",
    "print(american_call_price)\n",
    "american_put_price = opt.american_binomial_pricer(spot,strike,expiry,rate,div,vol,num,opt.put_payoff)\n",
    "print(american_put_price)"
   ]
  },
  {
   "cell_type": "code",
   "execution_count": 20,
   "metadata": {},
   "outputs": [
    {
     "name": "stdout",
     "output_type": "stream",
     "text": [
      "13.198625393818965\n",
      "8.583043661885752\n"
     ]
    }
   ],
   "source": [
    "european_call_price = opt.european_binomial_pricer(spot,strike,expiry,rate,div,vol,num,opt.call_payoff)\n",
    "print(european_call_price)\n",
    "european_put_price = opt.european_binomial_pricer(spot,strike,expiry,rate,div,vol,num,opt.put_payoff)\n",
    "print(european_put_price)"
   ]
  }
 ],
 "metadata": {
  "kernelspec": {
   "display_name": "Python 3",
   "language": "python",
   "name": "python3"
  },
  "language_info": {
   "codemirror_mode": {
    "name": "ipython",
    "version": 3
   },
   "file_extension": ".py",
   "mimetype": "text/x-python",
   "name": "python",
   "nbconvert_exporter": "python",
   "pygments_lexer": "ipython3",
   "version": "3.8.3"
  }
 },
 "nbformat": 4,
 "nbformat_minor": 4
}
