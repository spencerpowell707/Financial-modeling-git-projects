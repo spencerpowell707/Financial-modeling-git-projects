{
 "cells": [
  {
   "cell_type": "code",
   "execution_count": null,
   "metadata": {},
   "outputs": [],
   "source": [
    "\n"
   ]
  },
  {
   "cell_type": "code",
   "execution_count": null,
   "metadata": {},
   "outputs": [],
   "source": []
  },
  {
   "cell_type": "code",
   "execution_count": null,
   "metadata": {},
   "outputs": [],
   "source": [
    "import numpy as np\n",
    "\n",
    "def print_header():\n",
    "    print('\\tWelcome to Guess my number!')\n",
    "    print('\\tThink of a number between 1 and 100 and I will guess it')  \n",
    "    print('\\tI will do thisin as few attemps as possible, Good luck! \\n')      \n",
    "\n",
    "\n",
    "def print_footer():\n",
    "    print('I won! I will always beat you at this game!/n')\n",
    "low = 1\n",
    "high = 100\n",
    "def valid_input():\n",
    "        while True:\n",
    "            reply = input(\"\\nEnter 'low', 'high' or 'correct'.   \")\n",
    "        if reply in ('low', 'high', 'correct'):\n",
    "            return reply\n",
    "        print(\"This is an invalid option\")\n",
    "        \n",
    "def main():\n",
    "          #print initial header and instructions\n",
    "    print_header()\n",
    "    #get the initial values for the program\n",
    "          first_guess = np.random.randomint(low = 1, high = 101, size = 1)\n",
    "          tries = 1\n",
    "          low = 1\n",
    "          high = 100\n",
    "          \n",
    "          print('if you are ready,'\n",
    "                'Guess anything and we will start')\n",
    "          input('/nenter anything and I will start')\n",
    "\n",
    "    while True:\n",
    "        guess = (low + high)//2\n",
    "        print(\"I am guessing {}\".format(guess))\n",
    "        reply = valid_input()\n",
    "        if reply == 'low':\n",
    "            low = guess\n",
    "        elif reply == 'high':\n",
    "            high = guess\n",
    "        else:\n",
    "            print(\"Thank you for playing with me!\")\n",
    "            break\n",
    "\n",
    "        if low == high:\n",
    "            print(\"You cheated!\")\n",
    "            break\n",
    "\n",
    "if __name__ == '__main__':\n",
    "    main()"
   ]
  },
  {
   "cell_type": "code",
   "execution_count": null,
   "metadata": {},
   "outputs": [],
   "source": []
  },
  {
   "cell_type": "code",
   "execution_count": null,
   "metadata": {},
   "outputs": [],
   "source": []
  },
  {
   "cell_type": "code",
   "execution_count": null,
   "metadata": {},
   "outputs": [],
   "source": []
  },
  {
   "cell_type": "code",
   "execution_count": null,
   "metadata": {},
   "outputs": [],
   "source": []
  }
 ],
 "metadata": {
  "kernelspec": {
   "display_name": "Python 3",
   "language": "python",
   "name": "python3"
  },
  "language_info": {
   "codemirror_mode": {
    "name": "ipython",
    "version": 3
   },
   "file_extension": ".py",
   "mimetype": "text/x-python",
   "name": "python",
   "nbconvert_exporter": "python",
   "pygments_lexer": "ipython3",
   "version": "3.8.3"
  }
 },
 "nbformat": 4,
 "nbformat_minor": 4
}
