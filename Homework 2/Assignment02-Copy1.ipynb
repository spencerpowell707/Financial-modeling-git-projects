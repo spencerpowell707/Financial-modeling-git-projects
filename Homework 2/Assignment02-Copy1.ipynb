{
 "cells": [
  {
   "cell_type": "markdown",
   "metadata": {},
   "source": [
    "## Finance 5350: Computational Financial Modeling\n",
    "### Homework 2: Binary Search & Bond Yields\n",
    "\n",
    "<br>\n",
    "\n",
    "**Due Date:** TBA\n",
    "\n",
    "<br>"
   ]
  },
  {
   "cell_type": "code",
   "execution_count": 1,
   "metadata": {},
   "outputs": [],
   "source": [
    "import numpy as np"
   ]
  },
  {
   "cell_type": "markdown",
   "metadata": {},
   "source": [
    "#### __Problem 1 - The Nuggests Problem__"
   ]
  },
  {
   "cell_type": "markdown",
   "metadata": {},
   "source": [
    "This problem is known as the *chicken nuggets* problem. It goes like this: you walk into Chick Fil-A with an unlimited amount of money (and appetite!). You can purchase nuggets in containers of 6, 9, and 20.\n",
    "\n",
    "Write a program to tell you the ***highest*** number of nuggets that you ***cannot*** purchase! Re-read that just in case it slipped past you the first time. The highest number that you cannot get. For example, you ___can___ get 15 nuggets by purchasing a box of 6 and a box of 9 nuggets. You can get 18 by purchasing 2 boxes of 9 nuggets. But you cannot purchase 17 nuggets with any combination of 6, 9, and 20. ___What is the highest number that you cannot get?!___\n",
    "\n",
    "This simple game will give you experience assembling different bits of `Python` programming to find the solution. It will also employ a very simple numerical method called [__brute-force search__](https://en.wikipedia.org/wiki/Brute-force_search#:~:text=In%20computer%20science%2C%20brute%2Dforce,candidate%20satisfies%20the%20problem's%20statement.). \n",
    "\n",
    "Please write your solution in the code cell below:"
   ]
  },
  {
   "cell_type": "code",
   "execution_count": 2,
   "metadata": {},
   "outputs": [
    {
     "name": "stdout",
     "output_type": "stream",
     "text": [
      "The largest number that you cannot get is: 43\n"
     ]
    }
   ],
   "source": [
    "def is_nugget_number(candidate: int, sizes) -> bool:\n",
    "    SMALL = sizes['S']\n",
    "    MEDIUM = sizes['M']\n",
    "    LARGE = sizes['L']\n",
    "    for a in range(candidate//SMALL + 1):\n",
    "        for b in range(candidate//MEDIUM + 1):\n",
    "            for c in range(candidate//LARGE + 1):\n",
    "                if candidate == a * SMALL + b * MEDIUM + c * LARGE:\n",
    "                    return True\n",
    "    return False\n",
    "\n",
    "def main():\n",
    "    sizes = {'S' : 6, 'M' : 9, 'L' : 20}\n",
    "    count = 0\n",
    "    largest = 0\n",
    "    candidate = sizes['S']\n",
    "    \n",
    "    while count < sizes['S']:\n",
    "        if is_nugget_number(candidate, sizes):\n",
    "            count += 1\n",
    "        else:\n",
    "            largest = candidate\n",
    "            count = 0\n",
    "        candidate += 1\n",
    "        \n",
    "    print(f'The largest number that you cannot get is: {largest}')\n",
    "    \n",
    "if __name__ == \"__main__\":\n",
    "    main()"
   ]
  },
  {
   "cell_type": "markdown",
   "metadata": {},
   "source": [
    "#### __Problem 2 - The Guess My Number Game (Binary Search)__"
   ]
  },
  {
   "cell_type": "markdown",
   "metadata": {},
   "source": [
    "In the book **[Python Programming for the Absolute Beginner, 3rd Edition](http://goo.gl/7PGr9r)** the author teaches `Python` through some simple game programming. One of the first games that he shows how to write is the so-called ***Guess My Number*** game, which is the children's game of guessing some one's secret number (a number between 1 and 100). \n",
    "\n",
    "An implementation of the game in `Python` might look something like this:"
   ]
  },
  {
   "cell_type": "code",
   "execution_count": null,
   "metadata": {},
   "outputs": [
    {
     "name": "stdout",
     "output_type": "stream",
     "text": [
      "\tWelcome to 'Guess My Number'!\n",
      "\tI'm thinking of a number between 1 and 100.\n",
      "\tTry to guess it in as few attempts as possible.\n",
      "\n"
     ]
    }
   ],
   "source": [
    "import numpy as np\n",
    "\n",
    "def print_header():\n",
    "    print(\"\\tWelcome to 'Guess My Number'!\")\n",
    "    print(\"\\tI'm thinking of a number between 1 and 100.\")\n",
    "    print(\"\\tTry to guess it in as few attempts as possible.\\n\")\n",
    "\n",
    "\n",
    "def print_footer(the_number, tries):\n",
    "    print(\"You guessed it! The number was\", the_number)\n",
    "    print(\"And it only took you\", tries, \"tries!\\n\")\n",
    "    print(\"\\n\\nPress the enter key to exit.\")    \n",
    "    \n",
    "def main():\n",
    "    # print the greeting banner\n",
    "    print_header()\n",
    "    \n",
    "    # set the initial values\n",
    "    the_number = np.random.randint(low=1, high=101, size=1)[0]\n",
    "    guess = int(input(\"Take a guess: \"))\n",
    "    tries = 1\n",
    "    \n",
    "    # the game loop\n",
    "    while guess != the_number:\n",
    "        if guess > the_number:\n",
    "            print(\"Lower ...\")\n",
    "        else:\n",
    "            print(\"Higher...\")\n",
    "            \n",
    "        guess = int(input(\"Take a guess: \"))\n",
    "        tries += 1\n",
    "        \n",
    "    print_footer(the_number, tries)\n",
    "    \n",
    "    \n",
    "if __name__ == \"__main__\":\n",
    "    main()"
   ]
  },
  {
   "cell_type": "markdown",
   "metadata": {},
   "source": [
    "Your task in this problem is to now write a version of the *Guess My Number* game where you and the computer switch roles! That is right: you think of a number and the computer must guess it in as few attempts as possible. You will need to encode your guessing logic to the program solution.\n",
    "\n",
    "This might seem like silly game play, but in order to solve the problem you must use an algorithm called [**binary search**](https://en.wikipedia.org/wiki/Binary_search_algorithm) or the **bisection method** to solve the problem correctly. This is our first attempt at programming a simple algorithm. We will see this algorithm later in the context of the ***Black-Scholes-Merton Option Pricing Model*** to calculate the implied volatility of the model. This is something that options traders do thousands and thousands of times a day!\n",
    "\n",
    "Please use the code cell below to write your solution:"
   ]
  },
  {
   "cell_type": "code",
   "execution_count": null,
   "metadata": {},
   "outputs": [],
   "source": [
    "def main():\n",
    "    low = 50\n",
    "    high = 101\n",
    "\n",
    "    print(\"Think of a number between 1 and 100\")\n",
    "\n",
    "    print(\"When you are ready,\"\n",
    "          \" let me know and I will attempt to guess your number.\")\n",
    "    input(\"\\nEnter anything and I will begin: \")\n",
    "\n",
    "    def valid_input():\n",
    "        while True:\n",
    "            reply = input(\"\\nEnter 'low', 'high' or 'correct'.   \")\n",
    "            if reply in ('low', 'high', 'correct'):\n",
    "                return reply\n",
    "            print(\"I do not understand what you wrote.\")\n",
    "\n",
    "    while True:\n",
    "        guess = (low + high)//2\n",
    "        print(\"I am guessing {}\".format(guess))\n",
    "        reply = valid_input()\n",
    "        if reply == 'low':\n",
    "            low = guess\n",
    "        elif reply == 'high':\n",
    "            high = guess\n",
    "        else:\n",
    "            print(\"Thank you for playing!\")\n",
    "            break\n",
    "\n",
    "        if low == high:\n",
    "            print(\"Impossible!\")\n",
    "            break\n",
    "\n",
    "if __name__ == '__main__':\n",
    "    main()"
   ]
  },
  {
   "cell_type": "markdown",
   "metadata": {},
   "source": [
    "#### __Problem 3 - Bond Prices & Net Present Value__"
   ]
  },
  {
   "cell_type": "markdown",
   "metadata": {},
   "source": [
    "This problem comes from _Chapter 7: Interest Rates and Bond Valuation_ from the textbook _Fundamentals of Corporate Finance 12ed_ by Ross, Westerfield, and Jordan. \n",
    "\n",
    "<br>\n",
    "\n",
    "__The Problem Statement:__\n",
    "\n",
    "<br>\n",
    "\n",
    "A corporate coupon bond has a $10$ percent coupon rate and a $\\$1,000$ face value. Interest is paid semiannually, and the bond has $20$ years to maturity. If investors require a $12$ percent yield, what is the bond's value? What is the effective annual yield on the bond? \n",
    "\n",
    "<br>\n",
    "\n",
    "__The Problem Solution__\n",
    "\n",
    "<br>\n",
    "\n",
    "Because the bond has a $10$ percent coupon rate and investors require a $12$ precent yield, we know that the bond must sell at a discount. Notice that, because the bond pays interest seminannually, the coupons amount to $\\$100/2 = \\$50$ every six months. The required yield is $12\\% / 2 = 6\\%$ every six months. Finally, the bond matures in $20$ years, so there are a total of $40$ six-month periods. \n",
    "\n",
    "The bond's value is thus equal to the present value of $\\$50$ every six months for the next $40$ six-month periods plus the present value of the $\\$1,000$ face value amount: \n",
    "\n",
    "$$\n",
    "\\begin{aligned}\n",
    "\\mbox{Bond value} &= \\$50 \\times [(1 - 1/1.06^{40})/.06)] + 1,000/1.06^{40} \\\\\n",
    "                  &= \\$50 \\times 15.0463 + 1,000/10.2857 \\\\\n",
    "                  &= \\$849.54\n",
    "\\end{aligned}\n",
    "$$\n",
    "\n",
    "<br>\n",
    "\n",
    "Notice that we discounted the $\\$1,000$ back $40$ periods at $6$ percent per period, rather than $20$ years at $12$ percent. The reason is that the effective annual yield on the bond is $1.06^{2} - 1 = .1236$ or $12.36\\%$, not $12$ percent. We thus could have used $12.36$ percent per year for $20$ years when we calculated the present value of the $\\$1,000$ face value amount, and the answer would have been the same. \n",
    "\n",
    "<br>\n",
    "\n",
    "Your assignment for this problem is to write a function in `Python` that solves for the price of a bond. What you are solving for is really just a present value, so you can call it `present_value`. Test it by replicating in code the problem that is solved for you above. \n",
    "\n",
    "<br>"
   ]
  },
  {
   "cell_type": "code",
   "execution_count": null,
   "metadata": {},
   "outputs": [],
   "source": [
    "def present_value(rate: float, cash_flows: np.ndarray) -> float:\n",
    "    ## TODO: replace the hardcoded value with actual\n",
    "    ##       code to calculate the bond price\n",
    "    price = 849.54\n",
    "    return price"
   ]
  },
  {
   "cell_type": "code",
   "execution_count": null,
   "metadata": {},
   "outputs": [],
   "source": [
    "## Here is how to set up the bond's cash flows\n",
    "cash_flows = np.empty(40)\n",
    "cash_flows.fill(50.0)\n",
    "cash_flows[-1] += 1000.0"
   ]
  },
  {
   "cell_type": "code",
   "execution_count": null,
   "metadata": {},
   "outputs": [],
   "source": [
    "## Let's check it\n",
    "cash_flows"
   ]
  },
  {
   "cell_type": "code",
   "execution_count": null,
   "metadata": {},
   "outputs": [],
   "source": [
    "## Get the bond price and print it with proper formatting\n",
    "rate = 0.06\n",
    "price = present_value(rate, cash_flows)\n",
    "print(f\"The price of the bond is: ${price :,.2f}\")"
   ]
  },
  {
   "cell_type": "markdown",
   "metadata": {},
   "source": [
    "# My Code"
   ]
  },
  {
   "cell_type": "code",
   "execution_count": null,
   "metadata": {},
   "outputs": [],
   "source": [
    "import numpy as np\n",
    "def bond_factory2(face: float, coupon: float, frequency: int, maturity: int) -> np.ndarray:\n",
    "    pmt = (coupon  * face) / frequency\n",
    "    new_bon = np.full(maturity * frequency, pmt)\n",
    "    new_bon[-1] += face\n",
    "    return new_bon\n",
    "\n",
    "def bond_value2(rate: float, new_bon: np.ndarray) -> float:\n",
    "    formula = np.array([1/((1+(rate/frequency))**i)for i in range(1, new_bon.shape[0] + 1)])\n",
    "    return np.sum(formula * new_bon)\n",
    "\n",
    "    "
   ]
  },
  {
   "cell_type": "code",
   "execution_count": null,
   "metadata": {},
   "outputs": [],
   "source": [
    "face = 1000\n",
    "coupon = .1\n",
    "frequency = 2\n",
    "maturity = 20\n",
    "required_return = .12\n",
    "\n",
    "this_bond = bond_factory2(face, coupon, frequency, maturity)\n",
    "bond_value2(required_return, this_bond)\n"
   ]
  },
  {
   "cell_type": "code",
   "execution_count": null,
   "metadata": {},
   "outputs": [],
   "source": []
  },
  {
   "cell_type": "markdown",
   "metadata": {},
   "source": [
    "<br>\n",
    "\n",
    "__Note:__ just a brief note about the above formula for the bond price. It is using the present value of annuity formula to calculate the present value of the coupon payments. We could re-write the formula to be more generic as:\n",
    "\n",
    "$$\n",
    "\\begin{aligned}\n",
    "\\mbox{Bond price} &= \\left( \\sum_{t=1}^{M} \\frac{\\mbox{Coupon}_{t}}{(1 + r)^{t}} \\right) + \\frac{\\mbox{Face Value}}{(1 + r)^{M}} \\\\\n",
    "                  &= \\sum_{t=1}^{M} \\frac{CF_{t}}{(1 + r)^{t}}\n",
    "\\end{aligned}\n",
    "$$\n",
    "\n",
    "where $CF_{t}$ is the cash flow of the bond at time $t$. For every period up to the second to last one this is the coupon payment. The final cash flow would be the final coupon payment plus the face value amount of the bond. So for this particular bond above this amounts to the following:\n",
    "\n",
    "$$\n",
    "\\mbox{Bond price} = \\sum_{t=1}^{M} \\frac{CF_{t}}{(1 + r)^{t}} = \\frac{50.0}{(1.06)^{1}} + \\frac{50.0}{(1.06)^{2}} + \\cdots + \\frac{50.0}{(1.06)^{39}} + \\frac{1050.0}{(1.06)^{40}}\n",
    "$$\n",
    "\n",
    "<br>\n",
    "\n",
    "This should help you see why I set up the `cash_flows` ndarray as I did above. \n",
    "\n",
    "<br>"
   ]
  },
  {
   "cell_type": "markdown",
   "metadata": {},
   "source": [
    "#### __Problem 4 - Bond Yields & Binary Search__"
   ]
  },
  {
   "cell_type": "markdown",
   "metadata": {},
   "source": [
    "This another problem from _Chapter 7: Interest Rates and Bond Valuation_ from the textbook _Fundamentals of Corporate Finance 12ed_ by Ross, Westerfield, and Jordan. \n",
    "\n",
    "<br>\n",
    "\n",
    "__The Problem Statement:__\n",
    "\n",
    "<br>\n",
    "\n",
    "A corporate coupon bond carries an $8$ percent coupon, paid semiannually. The par value is $\\$1,000$, and the bond matures in six years. If the bond currently sells for $\\$911.37$, what is the yield to maturity? What is the effective annual yield? \n",
    "\n",
    "<br>\n",
    "\n",
    "__The Problem Solution__\n",
    "\n",
    "<br>\n",
    "\n",
    "The present value of the bond's cash flows is its current price, $\\$911.37$. The coupon is $\\$40$ every six months for $12$ periods. The face value is $\\$1,000$. So the bond's yield is the unknown discount rate in the following: \n",
    "\n",
    "$$\n",
    "\\$911.37 = \\$40 \\times \\frac{\\left[1 - \\frac{1}{(1 + r)^{12}}\\right]}{r} + \\frac{1,000}{(1 + r)^{12}}\n",
    "$$\n",
    "\n",
    "<br>\n",
    "\n",
    "The bond sells at a discount. Because the coupon rate is $8$ percent, the yield must be something in excess of that. \n",
    "\n",
    "If we were to solve this by trial and error, we might try $12$ percent (or $6$ percent per six months):\n",
    "\n",
    "$$\n",
    "\\begin{aligned}\n",
    "\\mbox{Bond value} &= \\$40 \\times \\frac{\\left[1 - \\frac{1}{1.06^{12}}\\right]}{.06} + \\frac{1,000}{1.06^{12}} \\\\\n",
    "                  &= \\$832.32\n",
    "\\end{aligned}\n",
    "$$\n",
    "\n",
    "<br>\n",
    "\n",
    "This is less than the actual value, so our discount rate is too high. We now know that the yield is somewhere between $8$ and $12$ percent. With further trial and error (or a little machine assistance), the yield works out to be $10$ percent, or $5$ percent every six months. \n",
    "\n",
    "By convention, the bond's yield to maturity would be quoted as $2 \\times 5\\% = 10\\%$. The effective annual yield is $1.05^{2} - 1 = .1025$ or $10.25\\%$.\n",
    "\n",
    "<br>\n",
    "\n",
    "Your assignment in this problem is to write a function that uses binary search like in the number guessing game together with your `present_value` function from the previous problem to solve for the bond's annual yield to maturity. \n",
    "\n",
    "<br>"
   ]
  },
  {
   "cell_type": "code",
   "execution_count": null,
   "metadata": {},
   "outputs": [],
   "source": [
    "def ytm(pv: float, lower: float, upper: float, cash_flows: np.ndarray) -> float:\n",
    "    ytm = 0.10 ## replace this with the calculation\n",
    "    return ytm"
   ]
  },
  {
   "cell_type": "code",
   "execution_count": null,
   "metadata": {},
   "outputs": [],
   "source": [
    "## Here is how to set up the bond's cash flows\n",
    "cash_flows2 = np.empty(12)\n",
    "cash_flows2.fill(40.0)\n",
    "cash_flows2[-1] += 1000.0"
   ]
  },
  {
   "cell_type": "markdown",
   "metadata": {},
   "source": [
    "### My code for question 4"
   ]
  },
  {
   "cell_type": "code",
   "execution_count": null,
   "metadata": {},
   "outputs": [],
   "source": [
    "import numpy as np\n",
    "def bond_factory(face: float, coupon: float, frequency: int, maturity: int) -> np.ndarray:\n",
    "    pmt = (coupon  * face) / frequency\n",
    "    new_bond = np.full(maturity * frequency, pmt)\n",
    "    new_bond[-1] += face\n",
    "    return new_bond\n",
    "\n",
    "def bond_value(rate: float, new_bond: np.ndarray) -> float:\n",
    "    formula = np.array([1/((1+(rate/frequency))**i)for i in range(1, new_bond.shape[0] + 1)])\n",
    "    return np.sum(formula * new_bond)\n",
    "\n",
    "#Finding the YTM\n",
    "def find_yld(real_price: float, new_bond: np.ndarray) -> float:\n",
    "    tries = 0\n",
    "    up = 1\n",
    "    low = 0\n",
    "    guess_value = 1/2 *(low + up)\n",
    "    price_guess = bond_value(guess_value, new_bond)\n",
    "    difference = real_price - price_guess\n",
    "    variance = 10 ** -6\n",
    "    while abs(difference) >= variance:\n",
    "        tries += 1\n",
    "        if difference <= 0:\n",
    "            low = guess_value\n",
    "        else:\n",
    "            up = guess_value\n",
    "        guess_value = 1/2 *(low + up)\n",
    "        difference = real_price - bond_value(guess_value, new_bond)\n",
    "    return(guess_value, tries) "
   ]
  },
  {
   "cell_type": "code",
   "execution_count": null,
   "metadata": {},
   "outputs": [],
   "source": [
    "the_bond = bond_factory(1000,.08,2,6)"
   ]
  },
  {
   "cell_type": "code",
   "execution_count": null,
   "metadata": {},
   "outputs": [],
   "source": [
    "find_yld(911.37, the_bond)"
   ]
  },
  {
   "cell_type": "raw",
   "metadata": {},
   "source": [
    "Additional Problems\n",
    "\n",
    "What is the price of a 10-year, zero-coupon bond paying $$1,000$ at marturity if the YTM is: a. 5 percent? b. 10 percent? c. 15 percent?"
   ]
  },
  {
   "cell_type": "code",
   "execution_count": null,
   "metadata": {},
   "outputs": [],
   "source": [
    "import numpy as np\n",
    "def adq1_bond_factory(face:float, coupon:float, frequency:int, duration:int) -> np.ndarray:\n",
    "    pmt = face*(coupon/frequency)\n",
    "    cashf = np.full(duration*frequency,pmt)\n",
    "    cashf[-1] += face\n",
    "    return cashf\n",
    "\n",
    "def adq1_valuation(rate:float, cashf: np.ndarray) -> float:\n",
    "    formula = np.array([1/((1+(rate/frequency))**i)for i in range(1, cashf.shape[0] + 1)])\n",
    "    return np.sum(formula*cashf)"
   ]
  },
  {
   "cell_type": "markdown",
   "metadata": {},
   "source": [
    "### I tried to use this to display all three prices at the same time but I cant figure out how to use a float in a tuple. "
   ]
  },
  {
   "cell_type": "code",
   "execution_count": null,
   "metadata": {},
   "outputs": [],
   "source": [
    "face = 1000\n",
    "coupon = 0\n",
    "frequency = 1\n",
    "duration = 10\n",
    "rate = (.05,.10,.15)\n",
    "cash_flows = adq1_bond_factory(face,coupon,frequency,duration)\n",
    "\n",
    "for x in rate:\n",
    "    print(adq1_valuation((rate[x]), cash_flows))"
   ]
  },
  {
   "cell_type": "markdown",
   "metadata": {},
   "source": [
    "# This is for 5%"
   ]
  },
  {
   "cell_type": "code",
   "execution_count": null,
   "metadata": {},
   "outputs": [],
   "source": [
    "face = 1000\n",
    "coupon = 0\n",
    "frequency = 1\n",
    "duration = 10\n",
    "rate = .05\n",
    "cash_flows = adq1_bond_factory(face,coupon,frequency,duration)\n",
    "\n",
    "print(adq1_valuation(rate, cash_flows))"
   ]
  },
  {
   "cell_type": "raw",
   "metadata": {},
   "source": [
    "Microhard has issued a bond with the following characteristics:\n",
    "\n",
    "Par: $$1,000$\n",
    "Time to maturity: 25 years\n",
    "Coupon rate: 7 percent\n",
    "Semiannual payments\n",
    "Calculate the price of this bond if the YTM is: a. 7 percent b. 9 percent c. 5 percent\n",
    "\n",
    "Watters Umbrella Corp. issued 12-year bonds 2 years ago at a coupon rate of 7.8 percent. The bonds make semiannual payments. If these bonds currently sell for 105 percent of par value, what is the YTM?\n",
    "\n",
    "Hacker Software has 7.4 percent coupon bonds on the market with 9 years to maturity. The bonds make semiannual payments and currently sell for 96 percent of par. What is the YTM?\n",
    "\n",
    "Pembroke Co. wants to issue new 20-year bonds for some much needed expansion projects. The company currently has 10 percent coupon bonds on the market that sell for $$1,063$, make semiannual payments, and mature in 20 year. What coupon rate should the company set on its new bonds if it wants them to sell at par?\n",
    "\n",
    "Please write 2 additional bond pricing homework problems that are plausible and solve them them with your code.\n",
    "\n",
    "Please write 2 additional bond yield-to-maturity homework problems at are plausible and solve them with your code. Please compare with numpy_financial's irr method."
   ]
  }
 ],
 "metadata": {
  "kernelspec": {
   "display_name": "Python 3",
   "language": "python",
   "name": "python3"
  },
  "language_info": {
   "codemirror_mode": {
    "name": "ipython",
    "version": 3
   },
   "file_extension": ".py",
   "mimetype": "text/x-python",
   "name": "python",
   "nbconvert_exporter": "python",
   "pygments_lexer": "ipython3",
   "version": "3.8.3"
  }
 },
 "nbformat": 4,
 "nbformat_minor": 4
}
