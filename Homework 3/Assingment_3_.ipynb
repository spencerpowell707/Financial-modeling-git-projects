{
 "cells": [
  {
   "cell_type": "markdown",
   "metadata": {},
   "source": [
    "10.1\n",
    "Let $S = \\$100$, $K = \\$105$, $r = 8\\%$, $T = 0.5$, and $\\delta = 0$ (i.e. no dividends). Let $u = 1.3$ and $d = 0.8$, and $n=1$.\n",
    "\n",
    "- __a.__ What are the premium, $\\Delta$, and $B$ for a European call?\n",
    "\n",
    "- __b.__ What are the premium, $\\Delta$, and $B$ for a European put?"
   ]
  },
  {
   "cell_type": "code",
   "execution_count": 1,
   "metadata": {},
   "outputs": [],
   "source": [
    "import numpy as np \n",
    "T = .5\n",
    "n = 1\n",
    "d = .8\n",
    "S = 100\n",
    "r=.08\n",
    "K = 105\n",
    "u = 1.3\n",
    "delta = 0\n",
    "\n",
    "h = T/n\n",
    "Sd = d*S\n",
    "Su = u*S\n",
    "Cu = np.maximum(0, Su - K)\n",
    "Cd = np.maximum(0, Sd - K)\n",
    "Deltacall = (np.exp(-delta*h))*(Cu-Cd)/(S*(u-d))\n",
    "Bcall = (np.exp(-r*h))*(u*Cd - d*Cu)/(u-d)\n",
    "CallOptionCost = (Deltacall*S) + Bcall\n",
    "\n",
    "h = T/n\n",
    "Sd = d*S\n",
    "Su = u*S\n",
    "Cu = np.maximum(0, K - Su)\n",
    "Cd = np.maximum(0, K - Sd)\n",
    "DeltaPut = (np.exp(-delta*h))*(Cu-Cd)/(S*(u-d))\n",
    "BPut = (np.exp(-r*h))*(u*Cd - d*Cu)/(u-d)\n",
    "PutOptionCost = (DeltaPut*S) + BPut"
   ]
  },
  {
   "cell_type": "code",
   "execution_count": 8,
   "metadata": {},
   "outputs": [
    {
     "name": "stdout",
     "output_type": "stream",
     "text": [
      "The premium for the Euro Call is 11.57\n",
      "Delta for the Euro Call is 0.5\n",
      "The B for the Euro Call is -38.43\n",
      "The premium for the Euro put is 12.45\n",
      "Delta for the Euro put is -0.5\n",
      "The B for the Euro put is 62.45\n"
     ]
    }
   ],
   "source": [
    "print(\"The premium for the Euro Call is\", round(CallOptionCost,2))\n",
    "print(\"Delta for the Euro Call is\", round(Deltacall,2))\n",
    "print(\"The B for the Euro Call is\", round(Bcall,2))\n",
    "\n",
    "\n",
    "print(\"The premium for the Euro put is\", round(PutOptionCost,2))\n",
    "print(\"Delta for the Euro put is\", round(DeltaPut,2))\n",
    "print(\"The B for the Euro put is\", round(BPut,2))\n"
   ]
  },
  {
   "cell_type": "code",
   "execution_count": 52,
   "metadata": {},
   "outputs": [],
   "source": [
    "def callpricer(S,K,r,T,delta,u,d,n,obprice): \n",
    "    h = T/n\n",
    "    Sd = d*S\n",
    "    Su = u*S\n",
    "    Cu = np.maximum(0, Su - K)\n",
    "    Cd = np.maximum(0, Sd - K)\n",
    "    Deltacall = (np.exp(-delta*h))*(Cu-Cd)/(S*(u-d))\n",
    "    Bcall = (np.exp(-r*h))*(u*Cd - d*Cu)/(u-d)\n",
    "    CallOptionCost = (Deltacall*S) + Bcall\n",
    "    arb = CallOptionCost-obprice\n",
    "    return print(round(CallOptionCost,3),\",\", round(arb,3))\n",
    "\n",
    "\n",
    "\n",
    "def putpricer(S,K,r,T,delta,u,d,n,obprice):\n",
    "    h = T/n\n",
    "    Sd = d*S\n",
    "    Su = u*S\n",
    "    Cu = np.maximum(0, K - Su)\n",
    "    Cd = np.maximum(0, K - Sd)\n",
    "    DeltaPut = (np.exp(-delta*h))*(Cu-Cd)/(S*(u-d))\n",
    "    BPut = (np.exp(-r*h))*(u*Cd - d*Cu)/(u-d)\n",
    "    PutOptionCost = (DeltaPut*S) + BPut\n",
    "    arb = PutOptionCost-obprice\n",
    "    return print(round(PutOptionCost,3),\",\", round(arb,3))\n"
   ]
  },
  {
   "cell_type": "raw",
   "metadata": {},
   "source": [
    "Let S = $100, K = $95, r = 8%, T = 0.5, and δ = 0 (i.e. no dividends). Let u = 1.3, d = 0.8, and n = 1.\n",
    "\n"
   ]
  },
  {
   "cell_type": "code",
   "execution_count": 49,
   "metadata": {},
   "outputs": [
    {
     "name": "stdout",
     "output_type": "stream",
     "text": [
      "16.196 , -0.804\n"
     ]
    }
   ],
   "source": [
    "callpricer(100,95,.08,.5,0,1.3,.8,1,17)"
   ]
  },
  {
   "cell_type": "raw",
   "metadata": {},
   "source": [
    "If the price is 17 then there is really no arbitrage. There is a negative .804 dollar difference between the market equilibrium price and the observed price. In this case it is better to hold the equivilent portfolio"
   ]
  },
  {
   "cell_type": "code",
   "execution_count": 50,
   "metadata": {},
   "outputs": [
    {
     "name": "stdout",
     "output_type": "stream",
     "text": [
      "16.196 , 0.696\n"
     ]
    }
   ],
   "source": [
    "callpricer(100,95,.08,.5,0,1.3,.8,1,15.5)"
   ]
  },
  {
   "cell_type": "raw",
   "metadata": {},
   "source": [
    "In this case the arbitrage is .696 dollars. This is a positive thing becuase you can buy it at a discound to the rational price."
   ]
  },
  {
   "cell_type": "raw",
   "metadata": {},
   "source": [
    "Let S = $100, K = $95, r = 8%, T = 0.5, and δ = 0 (i.e. no dividends). Let u = 1.3, d = 0.8, and n = 1. \n",
    "• a. Verify that the price of a European put is $7.471.\n",
    "• b. Suppose you observe a put price of $8. What is the arbitrage?\n",
    "• c. Suppose you observe a put price of $6. What is the aribtrage?"
   ]
  },
  {
   "cell_type": "code",
   "execution_count": 53,
   "metadata": {},
   "outputs": [
    {
     "name": "stdout",
     "output_type": "stream",
     "text": [
      "7.471 , -0.529\n"
     ]
    }
   ],
   "source": [
    "putpricer(100,95,.08,.5,0,1.3,.8,1,8)"
   ]
  },
  {
   "cell_type": "raw",
   "metadata": {},
   "source": [
    "This shows that there is negative arbitrage in this situation. the put is priced higher than it should be"
   ]
  },
  {
   "cell_type": "code",
   "execution_count": 54,
   "metadata": {},
   "outputs": [
    {
     "name": "stdout",
     "output_type": "stream",
     "text": [
      "7.471 , 1.471\n"
     ]
    }
   ],
   "source": [
    "putpricer(100,95,.08,.5,0,1.3,.8,1,6)"
   ]
  },
  {
   "cell_type": "raw",
   "metadata": {},
   "source": [
    "There is arbitrage of 1.471 dollars in this scenario. Because the put is cheaper than it should be you should buy it. "
   ]
  }
 ],
 "metadata": {
  "kernelspec": {
   "display_name": "Python 3",
   "language": "python",
   "name": "python3"
  },
  "language_info": {
   "codemirror_mode": {
    "name": "ipython",
    "version": 3
   },
   "file_extension": ".py",
   "mimetype": "text/x-python",
   "name": "python",
   "nbconvert_exporter": "python",
   "pygments_lexer": "ipython3",
   "version": "3.8.3"
  }
 },
 "nbformat": 4,
 "nbformat_minor": 4
}
