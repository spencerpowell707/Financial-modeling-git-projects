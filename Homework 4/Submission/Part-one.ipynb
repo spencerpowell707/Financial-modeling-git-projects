{
 "cells": [
  {
   "cell_type": "code",
   "execution_count": 1,
   "metadata": {},
   "outputs": [],
   "source": [
    "import real_options as opt"
   ]
  },
  {
   "cell_type": "raw",
   "metadata": {},
   "source": [
    "Problem 1\n",
    "\t(a) Complete the function european_binomial_pricer in the options.py module to implement the multiperiod European binomial option pricing model. This step is to be completed before you import the module into your notebook.\n",
    "\n",
    "\t(b) Verify that it works for both call and put options with n=1 (i.e. a single period). Compare against a hand-written solution. Assume the following:\n",
    "\tLet S_0=$100\n",
    "\tLet K=$105\n",
    "\tLet r=8%\n",
    "\tLet T=1 year\n",
    "\tLet δ=0.0 (i.e. no dividends)\n",
    "\tLet σ=20%\n",
    "\n"
   ]
  },
  {
   "cell_type": "code",
   "execution_count": 2,
   "metadata": {},
   "outputs": [
    {
     "name": "stdout",
     "output_type": "stream",
     "text": [
      "11.35 , 8.28\n"
     ]
    }
   ],
   "source": [
    "call1 = opt.eu_binom_pricer(100, 105, 1, .08, 0.0, .20, 1, opt.call_payoff)\n",
    "put1 = opt.eu_binom_pricer(100, 105, 1, .08, 0.0, .20, 1, opt.put_payoff)\n",
    "print(round(call1,2),\",\",round(put1,2))"
   ]
  },
  {
   "cell_type": "raw",
   "metadata": {},
   "source": [
    "\t(c) Verify that it works for both call and put options with n=3. Compare against a hand-written solution. Use the same parameters as above in (b)."
   ]
  },
  {
   "cell_type": "code",
   "execution_count": 3,
   "metadata": {},
   "outputs": [
    {
     "name": "stdout",
     "output_type": "stream",
     "text": [
      "10.04 , 6.97\n"
     ]
    }
   ],
   "source": [
    "call1 = opt.eu_binom_pricer(100, 105, 1, .08, 0.0, .20, 3, opt.call_payoff)\n",
    "put1 = opt.eu_binom_pricer(100, 105, 1, .08, 0.0, .20, 3, opt.put_payoff)\n",
    "print(round(call1,2),\",\",round(put1,2))"
   ]
  },
  {
   "cell_type": "raw",
   "metadata": {},
   "source": [
    "\t(d) What happens if you set n=200? Solve for both the call and put prices. DO NOT try to solve by hand! Again, use the parameter values from (b)."
   ]
  },
  {
   "cell_type": "code",
   "execution_count": 4,
   "metadata": {},
   "outputs": [
    {
     "name": "stdout",
     "output_type": "stream",
     "text": [
      "9.47 , 6.4\n"
     ]
    }
   ],
   "source": [
    "call1 = opt.eu_binom_pricer(100, 105, 1, .08, 0.0, .20, 200, opt.call_payoff)\n",
    "put1 = opt.eu_binom_pricer(100, 105, 1, .08, 0.0, .20, 200, opt.put_payoff)\n",
    "print(round(call1,2),\",\",round(put1,2))"
   ]
  },
  {
   "cell_type": "raw",
   "metadata": {},
   "source": [
    "In all of these, the more periods you have the more the option decays by the end of the period. "
   ]
  },
  {
   "cell_type": "raw",
   "metadata": {},
   "source": [
    "Problem 2\n",
    "•\t(a) Use the functions included in options.py to price the call and put option from Problem 1 part (b) with the Black-Scholes option pricing model. See McDonald Chapter 12 for background on the Black-Scholes option pricing model.\n",
    "\tLet S_0=$100\n",
    "\tLet K=$105\n",
    "\tLet r=8%\n",
    "\tLet T=1 year\n",
    "\tLet δ=0.0 (i.e. no dividends)\n",
    "\tLet σ=20%\n",
    "\n"
   ]
  },
  {
   "cell_type": "code",
   "execution_count": 5,
   "metadata": {},
   "outputs": [
    {
     "name": "stdout",
     "output_type": "stream",
     "text": [
      "The original problem returned these values: 11.35 , 8.28 The black scholes model returned: 9.47 , 6.4\n"
     ]
    }
   ],
   "source": [
    "bcall = opt.blk_sch_call(100, 105, 1, .08, 0, .2)\n",
    "bput = opt.blk_sch_put(100, 105, 1, .08, 0, .2)\n",
    "call1 = opt.eu_binom_pricer(100, 105, 1, .08, 0.0, .20, 1, opt.call_payoff)\n",
    "put1 = opt.eu_binom_pricer(100, 105, 1, .08, 0.0, .20, 1, opt.put_payoff)\n",
    "print(\"The original problem returned these values:\",round(call1,2),\",\",round(put1,2),\n",
    "      \"The black scholes model returned:\", round(bcall,2),\",\",round(bput,2))"
   ]
  },
  {
   "cell_type": "raw",
   "metadata": {},
   "source": [
    "\t(b) Use the european_binomial_pricer function with the following values: n=20,40,60,80,…,200 (i.e. increment by 20). Compare to the Black-Scholes prices obtained above. Make a table to report the results. What can you say about the European Bimomial model relative to the Black-Scholes model? Discuss the convergence of the European Bimomial to the Black-Scholes model."
   ]
  },
  {
   "cell_type": "code",
   "execution_count": 6,
   "metadata": {},
   "outputs": [],
   "source": [
    "c1 = opt.eu_binom_pricer(100, 105, 1, .08, 0.0, .20, 20, opt.call_payoff)\n",
    "c2 = opt.eu_binom_pricer(100, 105, 1, .08, 0.0, .20, 40, opt.call_payoff)\n",
    "c3 = opt.eu_binom_pricer(100, 105, 1, .08, 0.0, .20, 60, opt.call_payoff)\n",
    "c4 = opt.eu_binom_pricer(100, 105, 1, .08, 0.0, .20, 80, opt.call_payoff)\n",
    "c5 = opt.eu_binom_pricer(100, 105, 1, .08, 0.0, .20, 100, opt.call_payoff)\n",
    "c6 = opt.eu_binom_pricer(100, 105, 1, .08, 0.0, .20, 120, opt.call_payoff)\n",
    "c7 = opt.eu_binom_pricer(100, 105, 1, .08, 0.0, .20, 140, opt.call_payoff)\n",
    "c8 = opt.eu_binom_pricer(100, 105, 1, .08, 0.0, .20, 160, opt.call_payoff)\n",
    "c9 = opt.eu_binom_pricer(100, 105, 1, .08, 0.0, .20, 180, opt.call_payoff)\n",
    "c10= opt.eu_binom_pricer(100, 105, 1, .08, 0.0, .20, 200, opt.call_payoff)\n",
    "p1 = opt.eu_binom_pricer(100, 105, 1, .08, 0.0, .20, 20, opt.put_payoff)\n",
    "p2 = opt.eu_binom_pricer(100, 105, 1, .08, 0.0, .20, 40, opt.put_payoff)\n",
    "p3 = opt.eu_binom_pricer(100, 105, 1, .08, 0.0, .20, 60, opt.put_payoff)\n",
    "p4 = opt.eu_binom_pricer(100, 105, 1, .08, 0.0, .20, 80, opt.put_payoff)\n",
    "p5 = opt.eu_binom_pricer(100, 105, 1, .08, 0.0, .20, 100, opt.put_payoff)\n",
    "p6 = opt.eu_binom_pricer(100, 105, 1, .08, 0.0, .20, 120, opt.put_payoff)\n",
    "p7 = opt.eu_binom_pricer(100, 105, 1, .08, 0.0, .20, 140, opt.put_payoff)\n",
    "p8 = opt.eu_binom_pricer(100, 105, 1, .08, 0.0, .20, 160, opt.put_payoff)\n",
    "p9 = opt.eu_binom_pricer(100, 105, 1, .08, 0.0, .20, 180, opt.put_payoff)\n",
    "p10= opt.eu_binom_pricer(100, 105, 1, .08, 0.0, .20, 200, opt.put_payoff)"
   ]
  },
  {
   "cell_type": "code",
   "execution_count": 15,
   "metadata": {},
   "outputs": [
    {
     "name": "stdout",
     "output_type": "stream",
     "text": [
      "call Side 9.551545860303392 9.522373149418247 9.503780969695377 9.491052689777186 9.481664314226622 9.474369925822089 9.46848768261165 9.463610797803746 9.467509838995033 9.471909781165479\n",
      "The put side 6.478762230900063 6.449589520014875 6.430997340291343 6.418269060373404 6.408880684823933 6.401586296417616 6.395704053208263 6.390827168401908 6.394726209590166 6.399126151760387\n"
     ]
    }
   ],
   "source": [
    "print(\"call Side\",c1,c2,c3,c4,c5,c6,c7,c8,c9,c10)\n",
    "print(\"The put side\", p1,p2,p3,p4,p5,p6,p7,p8,p9,p10)"
   ]
  },
  {
   "cell_type": "raw",
   "metadata": {},
   "source": [
    "This shows the difference between the two models because the black scholes returned a value very close to the value obtained from the EU pricing model at 200 periods. This is becuase the black scholes model allows it to assume a infinate sample size when running the data. "
   ]
  },
  {
   "cell_type": "code",
   "execution_count": null,
   "metadata": {},
   "outputs": [],
   "source": []
  }
 ],
 "metadata": {
  "kernelspec": {
   "display_name": "Python 3",
   "language": "python",
   "name": "python3"
  },
  "language_info": {
   "codemirror_mode": {
    "name": "ipython",
    "version": 3
   },
   "file_extension": ".py",
   "mimetype": "text/x-python",
   "name": "python",
   "nbconvert_exporter": "python",
   "pygments_lexer": "ipython3",
   "version": "3.8.3"
  }
 },
 "nbformat": 4,
 "nbformat_minor": 4
}
