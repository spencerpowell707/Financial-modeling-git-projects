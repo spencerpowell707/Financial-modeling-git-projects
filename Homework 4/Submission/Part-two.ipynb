{
 "cells": [
  {
   "cell_type": "code",
   "execution_count": 1,
   "metadata": {},
   "outputs": [],
   "source": [
    "import real_options as opt"
   ]
  },
  {
   "cell_type": "raw",
   "metadata": {},
   "source": [
    "\tSet-up: Let S_0=$100, K=$95, r=8% (continuously compounded), σ=30%, δ=0, T=1 year, and n=3.\n",
    "\n",
    "\t(a) Verify that the binomial option price for an American call option is $18.283. Verify that there is never early exercise; hence a European call would have the same price. \n",
    "    \t(b) Show that the binomial option price for a European put option is $5.979. Verify that put-call parity is satisfied.\n",
    "\n",
    "\t(c) Verify that the price of an American put is $6.678."
   ]
  },
  {
   "cell_type": "code",
   "execution_count": 7,
   "metadata": {},
   "outputs": [
    {
     "name": "stdout",
     "output_type": "stream",
     "text": [
      "The call is: 18.283 , The European put is: 5.979 , The American put is: 6.678\n"
     ]
    }
   ],
   "source": [
    "callA = opt.amer_binom_pricer(100, 95, 1, .08, 0, .3, 3, opt.call_payoff)\n",
    "\n",
    "putA = opt.amer_binom_pricer(100, 95, 1, .08, 0, .3, 3, opt.put_payoff)\n",
    "\n",
    "putEUR = opt.eu_binom_pricer(100, 95, 1, .08, 0.0, .30, 3, opt.put_payoff)\n",
    "callEUR = opt.eu_binom_pricer(100, 95, 1, .08, 0.0, .30, 3, opt.call_payoff)\n",
    "print(\"The call is:\", round(callA,3),\",\", \"The European put is:\",round(putEUR,3),\",\", \"The American put is:\",round(putA,3))"
   ]
  },
  {
   "cell_type": "code",
   "execution_count": 12,
   "metadata": {},
   "outputs": [
    {
     "name": "stdout",
     "output_type": "stream",
     "text": [
      "87.78801313377129\n",
      "87.69605290673042\n"
     ]
    },
    {
     "data": {
      "text/plain": [
       "True"
      ]
     },
     "execution_count": 12,
     "metadata": {},
     "output_type": "execute_result"
    }
   ],
   "source": [
    "spot = 100\n",
    "strike = 95\n",
    "expiry = 1\n",
    "rate = .08\n",
    "div = 0.00\n",
    "vol = .30\n",
    "nper = 3\n",
    "\n",
    "C = callEUR\n",
    "V = strike/(1+(rate/nper))**nper\n",
    "P = putEUR\n",
    "S = spot\n",
    "print(V)\n",
    "V = P + S - C\n",
    "print(V)\n",
    "bool((C+V)==(P+S))"
   ]
  },
  {
   "cell_type": "raw",
   "metadata": {},
   "source": [
    "\t(d) Repeat each of the above for n=200. How can you be sure there is never early exercise of the American call from part (a)? DO NOT attempt to solve this part by hand!"
   ]
  },
  {
   "cell_type": "code",
   "execution_count": 13,
   "metadata": {},
   "outputs": [
    {
     "name": "stdout",
     "output_type": "stream",
     "text": [
      "The call is: 18.382 , The European put is: 6.078 , The American put is: 6.685\n"
     ]
    }
   ],
   "source": [
    "callA = opt.amer_binom_pricer(100, 95, 1, .08, 0, .3, 200, opt.call_payoff)\n",
    "\n",
    "putA = opt.amer_binom_pricer(100, 95, 1, .08, 0, .3, 200, opt.put_payoff)\n",
    "\n",
    "putEUR = opt.eu_binom_pricer(100, 95, 1, .08, 0.0, .30, 200, opt.put_payoff)\n",
    "callEUR = opt.eu_binom_pricer(100, 95, 1, .08, 0.0, .30, 200, opt.call_payoff)\n",
    "print(\"The call is:\", round(callA,3),\",\", \"The European put is:\",round(putEUR,3),\",\", \"The American put is:\",round(putA,3))"
   ]
  },
  {
   "cell_type": "code",
   "execution_count": 14,
   "metadata": {},
   "outputs": [
    {
     "name": "stdout",
     "output_type": "stream",
     "text": [
      "87.69745568073925\n",
      "87.69605290672851\n"
     ]
    },
    {
     "data": {
      "text/plain": [
       "True"
      ]
     },
     "execution_count": 14,
     "metadata": {},
     "output_type": "execute_result"
    }
   ],
   "source": [
    "spot = 100\n",
    "strike = 95\n",
    "expiry = 1\n",
    "rate = .08\n",
    "div = 0.00\n",
    "vol = .30\n",
    "nper = 200\n",
    "\n",
    "C = callEUR\n",
    "V = strike/(1+(rate/nper))**nper\n",
    "P = putEUR\n",
    "S = spot\n",
    "print(V)\n",
    "V = P + S - C\n",
    "print(V)\n",
    "bool((C+V)==(P+S))"
   ]
  },
  {
   "cell_type": "raw",
   "metadata": {},
   "source": [
    "Problem 3\n",
    "\tRepeat the previous problem assuming that the stock pays a continuous dividend of 8% per year (continuously compounded).\n",
    "\tCalculate the prices of the American and European puts and calls.\n",
    "\tWhich options are early-exercised? Explain your answer.\n"
   ]
  },
  {
   "cell_type": "code",
   "execution_count": 15,
   "metadata": {},
   "outputs": [
    {
     "name": "stdout",
     "output_type": "stream",
     "text": [
      "The call is: 14.183 , The European put is: 9.326 , The American put is: 9.505\n"
     ]
    }
   ],
   "source": [
    "callA = opt.amer_binom_pricer(100, 95, 1, .08, .08, .3, 3, opt.call_payoff)\n",
    "\n",
    "putA = opt.amer_binom_pricer(100, 95, 1, .08, .08, .3, 3, opt.put_payoff)\n",
    "\n",
    "putEUR = opt.eu_binom_pricer(100, 95, 1, .08, .08, .30, 3, opt.put_payoff)\n",
    "callEUR = opt.eu_binom_pricer(100, 95, 1, .08, .08, .30, 3, opt.call_payoff)\n",
    "print(\"The call is:\", round(callA,3),\",\", \"The European put is:\",round(putEUR,3),\",\", \"The American put is:\",round(putA,3))"
   ]
  },
  {
   "cell_type": "code",
   "execution_count": 19,
   "metadata": {},
   "outputs": [
    {
     "name": "stdout",
     "output_type": "stream",
     "text": [
      "87.78801313377129\n",
      "95.38441826806681\n"
     ]
    },
    {
     "data": {
      "text/plain": [
       "True"
      ]
     },
     "execution_count": 19,
     "metadata": {},
     "output_type": "execute_result"
    }
   ],
   "source": [
    "spot = 100\n",
    "strike = 95\n",
    "expiry = 1\n",
    "rate = .08\n",
    "div = 0.08\n",
    "vol = .30\n",
    "nper = 3\n",
    "\n",
    "C = callEUR\n",
    "V = strike/(1+(rate/nper))**nper\n",
    "P = putEUR\n",
    "S = spot\n",
    "print(V)\n",
    "V = P + S - C\n",
    "print(V)\n",
    "bool((C+V)==(P+S))"
   ]
  },
  {
   "cell_type": "code",
   "execution_count": 20,
   "metadata": {},
   "outputs": [
    {
     "name": "stdout",
     "output_type": "stream",
     "text": [
      "The call is: 13.502 , The European put is: 8.583 , The American put is: 8.736\n"
     ]
    }
   ],
   "source": [
    "callA = opt.amer_binom_pricer(100, 95, 1, .08, 0.08, .3, 200, opt.call_payoff)\n",
    "\n",
    "putA = opt.amer_binom_pricer(100, 95, 1, .08, 0.08, .3, 200, opt.put_payoff)\n",
    "\n",
    "putEUR = opt.eu_binom_pricer(100, 95, 1, .08, 0.08, .30, 200, opt.put_payoff)\n",
    "callEUR = opt.eu_binom_pricer(100, 95, 1, .08, 0.08, .30, 200, opt.call_payoff)\n",
    "print(\"The call is:\", round(callA,3),\",\", \"The European put is:\",round(putEUR,3),\",\", \"The American put is:\",round(putA,3))"
   ]
  },
  {
   "cell_type": "code",
   "execution_count": 22,
   "metadata": {},
   "outputs": [
    {
     "name": "stdout",
     "output_type": "stream",
     "text": [
      "87.69745568073925\n",
      "95.38441826806678\n"
     ]
    }
   ],
   "source": [
    "spot = 100\n",
    "strike = 95\n",
    "expiry = 1\n",
    "rate = .08\n",
    "div = 0.08\n",
    "vol = .30\n",
    "nper = 200\n",
    "\n",
    "C = callEUR\n",
    "V = strike/(1+(rate/nper))**nper\n",
    "P = putEUR\n",
    "S = spot\n",
    "print(V)\n",
    "bool((C+V)==(P+S))\n",
    "V = P + S - C\n",
    "print(V)\n"
   ]
  },
  {
   "cell_type": "raw",
   "metadata": {},
   "source": [
    "The american options with a 200 NPER and a dividend are exercised early becuase the put call parity does not match up."
   ]
  }
 ],
 "metadata": {
  "kernelspec": {
   "display_name": "Python 3",
   "language": "python",
   "name": "python3"
  },
  "language_info": {
   "codemirror_mode": {
    "name": "ipython",
    "version": 3
   },
   "file_extension": ".py",
   "mimetype": "text/x-python",
   "name": "python",
   "nbconvert_exporter": "python",
   "pygments_lexer": "ipython3",
   "version": "3.8.3"
  }
 },
 "nbformat": 4,
 "nbformat_minor": 4
}
